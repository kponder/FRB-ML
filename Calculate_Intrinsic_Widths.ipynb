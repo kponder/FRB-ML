{
 "cells": [
  {
   "cell_type": "markdown",
   "metadata": {},
   "source": [
    "# Previously, we had been using Observed widths, but if we want to say anything about the physics of an FRB, we need to look at intrinsic widths. \n"
   ]
  },
  {
   "cell_type": "code",
   "execution_count": 1,
   "metadata": {
    "collapsed": false
   },
   "outputs": [
    {
     "name": "stdout",
     "output_type": "stream",
     "text": [
      "Populating the interactive namespace from numpy and matplotlib\n"
     ]
    }
   ],
   "source": [
    "%pylab inline\n",
    "\n",
    "import numpy as np\n",
    "import matplotlib.pyplot as plt\n",
    "import astropy.table as Table\n",
    "\n",
    "from astropy.io import ascii"
   ]
  },
  {
   "cell_type": "code",
   "execution_count": 2,
   "metadata": {
    "collapsed": false
   },
   "outputs": [],
   "source": [
    "data  = ascii.read(\"20160321_FRB_cat.csv\")\n",
    "repeating  = ascii.read(\"20160321_FRB121102_cat.csv\")"
   ]
  },
  {
   "cell_type": "code",
   "execution_count": 3,
   "metadata": {
    "collapsed": false,
    "scrolled": false
   },
   "outputs": [
    {
     "data": {
      "text/html": [
       "&lt;Table length=17&gt;\n",
       "<table id=\"table4455946320\">\n",
       "<thead><tr><th>Name</th><th>Telescope</th><th>UTC</th><th>RAJ</th><th>DECJ</th><th>Pointing Error</th><th>FWHM</th><th>Sampling Time</th><th>Bandwidth</th><th>Centre Frequency</th><th>DM</th><th>DM error</th><th>SNR</th><th>Intrinsic Width</th><th>Width</th><th>Width error lower</th><th>Width error upper</th><th>Flux</th><th>Flux error lower</th><th>Flux error upper</th><th>DM Index</th><th>DM Index Error</th><th>Scattering Index</th><th>Scattering Index Error</th><th>Scattering Time</th><th>Scattering Time Error</th><th>Number of Channels</th><th>Reference</th></tr></thead>\n",
       "<thead><tr><th>str9</th><th>str7</th><th>str19</th><th>str8</th><th>str9</th><th>int64</th><th>float64</th><th>float64</th><th>float64</th><th>float64</th><th>float64</th><th>str4</th><th>str2</th><th>str14</th><th>float64</th><th>str5</th><th>str5</th><th>float64</th><th>str5</th><th>str5</th><th>str5</th><th>str5</th><th>str4</th><th>str3</th><th>str5</th><th>str4</th><th>int64</th><th>str97</th></tr></thead>\n",
       "<tr><td>FRB010125</td><td>parkes</td><td>2001-01-25 00:29:14</td><td>19:06:53</td><td>-40:37:14</td><td>11</td><td>15.0</td><td>0.125</td><td>288.0</td><td>1372.5</td><td>790.0</td><td>3.0</td><td>17</td><td>5.52026308551</td><td>9.4</td><td>0.2</td><td>0.2</td><td>0.3</td><td>--</td><td>--</td><td>2.0</td><td>0.01</td><td>-4.2</td><td>1.2</td><td>--</td><td>--</td><td>96</td><td>Burke-Spolaor S., Bannister K. W., 2014, ApJ, 792, 19</td></tr>\n",
       "<tr><td>FRB010621</td><td>parkes</td><td>2001-06-21 13:02:09</td><td>18:52:05</td><td>-08:29:35</td><td>11</td><td>15.0</td><td>0.25</td><td>288.0</td><td>1374.0</td><td>745.0</td><td>10.0</td><td>--</td><td>--</td><td>7.0</td><td>--</td><td>--</td><td>0.41</td><td>--</td><td>--</td><td>2.02</td><td>0.01</td><td>--</td><td>--</td><td>--</td><td>--</td><td>96</td><td>Keane E. F., Kramer M., Lyne A. G., Stappers B. W., McLaughlin M. A., 2011, MNRAS, 415, 3065</td></tr>\n",
       "<tr><td>FRB010724</td><td>parkes</td><td>2001-07-24 19:50:00</td><td>01:18:06</td><td>-75:12:18</td><td>11</td><td>15.0</td><td>1.0</td><td>288.0</td><td>1374.0</td><td>375.0</td><td>--</td><td>23</td><td>3.47014621233</td><td>5.0</td><td>--</td><td>--</td><td>30.0</td><td>10.0</td><td>10.0</td><td>--</td><td>--</td><td>4.8</td><td>0.4</td><td>24.13</td><td>3.0</td><td>96</td><td>Lorimer D. R., Bailes M., McLaughlin M. A., Narkevic, D. J., Crawford F., 2007, Science, 318, 777</td></tr>\n",
       "<tr><td>FRB090625</td><td>parkes</td><td>2009-06-25 21:53:49</td><td>03:07:47</td><td>-29:55:36</td><td>11</td><td>15.0</td><td>0.064</td><td>338.281</td><td>1352.0</td><td>899.55</td><td>0.01</td><td>30</td><td>1.64021409362</td><td>1.92</td><td>0.768</td><td>0.832</td><td>1.14</td><td>0.21</td><td>0.42</td><td>--</td><td>--</td><td>--</td><td>--</td><td>3.7</td><td>0.7</td><td>1024</td><td>Champion et al. 2015, submitted</td></tr>\n",
       "<tr><td>FRB110220</td><td>parkes</td><td>2011-02-20 01:55:46</td><td>22:34:38</td><td>-12:23:45</td><td>11</td><td>15.0</td><td>0.064</td><td>338.281</td><td>1352.0</td><td>944.38</td><td>0.05</td><td>49</td><td>5.50110400049</td><td>5.6</td><td>0.1</td><td>0.1</td><td>1.3</td><td>0.0</td><td>0.0</td><td>2.003</td><td>0.006</td><td>-4.0</td><td>0.4</td><td>--</td><td>--</td><td>1024</td><td>Thornton D. et al., 2013, Science, 341, 53</td></tr>\n",
       "<tr><td>FRB110523</td><td>GBT</td><td>2011-05-23 15:06:19</td><td>21:45:12</td><td>-00:09:37</td><td>0</td><td>16.0</td><td>1.024</td><td>200.0</td><td>800.0</td><td>623.3</td><td>0.06</td><td>42</td><td>1.65815655612</td><td>1.73</td><td>0.17</td><td>0.17</td><td>0.6</td><td>--</td><td>--</td><td>1.998</td><td>0.003</td><td>-3.6</td><td>1.4</td><td>0.71</td><td>0.09</td><td>4096</td><td>Masui K. et al., 2015, Nature</td></tr>\n",
       "<tr><td>FRB110626</td><td>parkes</td><td>2011-06-26 21:33:15</td><td>21:03:43</td><td>-44:44:19</td><td>11</td><td>15.0</td><td>0.064</td><td>338.281</td><td>1352.0</td><td>723.0</td><td>0.3</td><td>11</td><td>1.14740165466</td><td>1.4</td><td>--</td><td>--</td><td>0.4</td><td>--</td><td>--</td><td>--</td><td>--</td><td>--</td><td>--</td><td>--</td><td>--</td><td>1024</td><td>Thornton D. et al., 2013, Science, 341, 53</td></tr>\n",
       "<tr><td>FRB110703</td><td>parkes</td><td>2011-07-03 18:59:38</td><td>23:30:51</td><td>-02:52:24</td><td>11</td><td>15.0</td><td>0.064</td><td>338.281</td><td>1352.0</td><td>1103.6</td><td>0.7</td><td>16</td><td>4.12198346958</td><td>4.3</td><td>--</td><td>--</td><td>0.5</td><td>--</td><td>--</td><td>2.0</td><td>0.006</td><td>--</td><td>--</td><td>--</td><td>--</td><td>1024</td><td>Thornton D. et al., 2013, Science, 341, 53</td></tr>\n",
       "<tr><td>FRB120127</td><td>parkes</td><td>2012-01-27 08:11:20</td><td>23:15:06</td><td>-18:25:38</td><td>11</td><td>15.0</td><td>0.064</td><td>338.281</td><td>1352.0</td><td>553.3</td><td>0.3</td><td>11</td><td>0.912768533255</td><td>1.1</td><td>--</td><td>--</td><td>0.5</td><td>--</td><td>--</td><td>--</td><td>--</td><td>--</td><td>--</td><td>--</td><td>--</td><td>1024</td><td>Thornton D. et al., 2013, Science, 341, 53</td></tr>\n",
       "<tr><td>FRB121002</td><td>parkes</td><td>2012-10-02 13:09:14</td><td>18:14:47</td><td>-85:11:53</td><td>11</td><td>15.0</td><td>0.064</td><td>338.281</td><td>1352.0</td><td>1629.18</td><td>0.02</td><td>16</td><td>5.13091575988</td><td>5.44</td><td>1.2</td><td>3.5</td><td>0.43</td><td>0.06</td><td>0.33</td><td>--</td><td>--</td><td>--</td><td>--</td><td>6.7</td><td>0.7</td><td>1024</td><td>Champion et al. 2015, submitted</td></tr>\n",
       "<tr><td>FRB121102</td><td>arecibo</td><td>2012-11-02 06:35:53</td><td>05:32:09</td><td>33:05:13</td><td>9</td><td>3.5</td><td>0.0655</td><td>322.6</td><td>1375.0</td><td>557.0</td><td>2.0</td><td>14</td><td>2.93987440545</td><td>3.0</td><td>0.5</td><td>0.5</td><td>0.4</td><td>0.1</td><td>0.4</td><td>--</td><td>--</td><td>--</td><td>--</td><td>--</td><td>--</td><td>960</td><td>Spitler L. G. et al., 2014, ApJ, 790, 101</td></tr>\n",
       "<tr><td>FRB130626</td><td>parkes</td><td>2013-06-26 14:55:57</td><td>16:27:06</td><td>-07:27:48</td><td>11</td><td>15.0</td><td>0.064</td><td>338.281</td><td>1352.0</td><td>952.4</td><td>0.1</td><td>21</td><td>1.67446090602</td><td>1.98</td><td>0.44</td><td>1.2</td><td>0.74</td><td>0.11</td><td>0.49</td><td>--</td><td>--</td><td>--</td><td>--</td><td>2.9</td><td>0.7</td><td>1024</td><td>Champion et al. 2015, submitted</td></tr>\n",
       "<tr><td>FRB130628</td><td>parkes</td><td>2013-06-28 03:57:59</td><td>09:03:02</td><td>03:26:16</td><td>11</td><td>15.0</td><td>0.064</td><td>338.281</td><td>1352.0</td><td>469.88</td><td>0.01</td><td>29</td><td>0.371234621609</td><td>0.64</td><td>0.13</td><td>0.13</td><td>1.91</td><td>0.23</td><td>0.29</td><td>--</td><td>--</td><td>--</td><td>--</td><td>1.24</td><td>0.07</td><td>1024</td><td>Champion et al. 2015, submitted</td></tr>\n",
       "<tr><td>FRB130729</td><td>parkes</td><td>2013-07-29 09:01:49</td><td>13:41:21</td><td>-05:59:43</td><td>11</td><td>15.0</td><td>0.064</td><td>338.281</td><td>1352.0</td><td>861.0</td><td>2.0</td><td>14</td><td>15.5807428568</td><td>15.61</td><td>6.27</td><td>9.98</td><td>0.22</td><td>0.046</td><td>0.17</td><td>--</td><td>--</td><td>--</td><td>--</td><td>23.0</td><td>2.0</td><td>1024</td><td>Champion et al. 2015, submitted</td></tr>\n",
       "<tr><td>FRB131104</td><td>parkes</td><td>2013-11-04 18:03:59</td><td>06:44:10</td><td>-51:16:40</td><td>11</td><td>15.0</td><td>0.064</td><td>338.281</td><td>1352.0</td><td>779.0</td><td>1.0</td><td>30</td><td>1.89192766436</td><td>2.08</td><td>--</td><td>--</td><td>1.12</td><td>--</td><td>--</td><td>--</td><td>--</td><td>-4.4</td><td>1.8</td><td>15.0</td><td>0.8</td><td>1024</td><td>Ravi V., Shannon R. M., Jameson A., 2015, ApJ, 799, L5</td></tr>\n",
       "<tr><td>FRB140514</td><td>parkes</td><td>2014-05-14 17:14:09</td><td>22:34:06</td><td>-12:18:46</td><td>11</td><td>15.0</td><td>0.064</td><td>338.281</td><td>1352.0</td><td>562.7</td><td>0.6</td><td>16</td><td>2.72951147876</td><td>2.8</td><td>0.7</td><td>3.5</td><td>0.471</td><td>0.08</td><td>0.109</td><td>2.0</td><td>0.004</td><td>--</td><td>--</td><td>5.4</td><td>0.1</td><td>1024</td><td>Petroff E. et al., 2015, MNRAS, 447, 246</td></tr>\n",
       "<tr><td>FRB150418</td><td>parkes</td><td>2015-04-18 04:29:04</td><td>07:16:35</td><td>-19:00:40</td><td>11</td><td>15.0</td><td>0.064</td><td>338.281</td><td>1352.0</td><td>776.2</td><td>0.5</td><td>39</td><td>--</td><td>0.8</td><td>0.3</td><td>0.3</td><td>2.2</td><td>0.3</td><td>0.6</td><td>2.0</td><td>0.001</td><td>--</td><td>--</td><td>--</td><td>--</td><td>1024</td><td>Keane E. F. et al., Nature, 530, 453-456 (2016).</td></tr>\n",
       "</table>"
      ],
      "text/plain": [
       "<Table length=17>\n",
       "   Name   ...\n",
       "   str9   ...\n",
       "--------- ...\n",
       "FRB010125 ...\n",
       "FRB010621 ...\n",
       "FRB010724 ...\n",
       "FRB090625 ...\n",
       "FRB110220 ...\n",
       "FRB110523 ...\n",
       "FRB110626 ...\n",
       "FRB110703 ...\n",
       "FRB120127 ...\n",
       "FRB121002 ...\n",
       "FRB121102 ...\n",
       "FRB130626 ...\n",
       "FRB130628 ...\n",
       "FRB130729 ...\n",
       "FRB131104 ...\n",
       "FRB140514 ...\n",
       "FRB150418 ..."
      ]
     },
     "execution_count": 3,
     "metadata": {},
     "output_type": "execute_result"
    }
   ],
   "source": [
    "data"
   ]
  },
  {
   "cell_type": "code",
   "execution_count": 4,
   "metadata": {
    "collapsed": true
   },
   "outputs": [],
   "source": [
    "def intrinsic(W_obs, W_DM):\n",
    "    ''' Calulate intrisic width using \n",
    "    W_obs^2 = W_int^2 + W_DM^2'''\n",
    "    \n",
    "    return np.sqrt(W_obs**2.0-W_DM**2.0)"
   ]
  },
  {
   "cell_type": "code",
   "execution_count": 5,
   "metadata": {
    "collapsed": true
   },
   "outputs": [],
   "source": [
    "def W_DM(DM, Nu, dNu):\n",
    "    '''Calculate W_DM\n",
    "    DM = Dispersion measure\n",
    "    Nu = Center freqency of channel\n",
    "    dNu = Bandwidth of channel/ number of channels'''\n",
    "     \n",
    "    return 8.3e6 * DM * dNu /Nu**3.0 "
   ]
  },
  {
   "cell_type": "code",
   "execution_count": 6,
   "metadata": {
    "collapsed": false
   },
   "outputs": [
    {
     "name": "stderr",
     "output_type": "stream",
     "text": [
      "/Users/karaponder/anaconda/lib/python2.7/site-packages/IPython/kernel/__main__.py:5: RuntimeWarning: invalid value encountered in sqrt\n"
     ]
    }
   ],
   "source": [
    "W_int = intrinsic(data['Width'], W_DM(data['DM'], data['Centre Frequency'], data['Bandwidth']/data['Number of Channels']))"
   ]
  },
  {
   "cell_type": "code",
   "execution_count": 7,
   "metadata": {
    "collapsed": false
   },
   "outputs": [
    {
     "data": {
      "text/html": [
       "&lt;Column name=&apos;Width&apos; dtype=&apos;float64&apos; length=17&gt;\n",
       "<table>\n",
       "<tr><td>5.52026308551</td></tr>\n",
       "<tr><td>nan</td></tr>\n",
       "<tr><td>3.47014621233</td></tr>\n",
       "<tr><td>1.64021409362</td></tr>\n",
       "<tr><td>5.50110400049</td></tr>\n",
       "<tr><td>1.65815655612</td></tr>\n",
       "<tr><td>1.14740165466</td></tr>\n",
       "<tr><td>4.12198346958</td></tr>\n",
       "<tr><td>0.912768533255</td></tr>\n",
       "<tr><td>5.13091575988</td></tr>\n",
       "<tr><td>2.93987440545</td></tr>\n",
       "<tr><td>1.67446090602</td></tr>\n",
       "<tr><td>0.371234621609</td></tr>\n",
       "<tr><td>15.5807428568</td></tr>\n",
       "<tr><td>1.89192766436</td></tr>\n",
       "<tr><td>2.72951147876</td></tr>\n",
       "<tr><td>nan</td></tr>\n",
       "</table>"
      ],
      "text/plain": [
       "<Column name='Width' dtype='float64' length=17>\n",
       " 5.52026308551\n",
       "           nan\n",
       " 3.47014621233\n",
       " 1.64021409362\n",
       " 5.50110400049\n",
       " 1.65815655612\n",
       " 1.14740165466\n",
       " 4.12198346958\n",
       "0.912768533255\n",
       " 5.13091575988\n",
       " 2.93987440545\n",
       " 1.67446090602\n",
       "0.371234621609\n",
       " 15.5807428568\n",
       " 1.89192766436\n",
       " 2.72951147876\n",
       "           nan"
      ]
     },
     "execution_count": 7,
     "metadata": {},
     "output_type": "execute_result"
    }
   ],
   "source": [
    "W_int"
   ]
  },
  {
   "cell_type": "code",
   "execution_count": 8,
   "metadata": {
    "collapsed": false
   },
   "outputs": [],
   "source": [
    "W_int_repeating = intrinsic(repeating['Width'], \\\n",
    "                            W_DM(repeating['DM'],repeating['Centre Frequency'], \\\n",
    "                                 repeating['Bandwidth']/repeating['Number of Channels']))"
   ]
  },
  {
   "cell_type": "code",
   "execution_count": 9,
   "metadata": {
    "collapsed": false,
    "scrolled": true
   },
   "outputs": [
    {
     "data": {
      "text/html": [
       "&lt;Column name=&apos;Width&apos; dtype=&apos;float64&apos; length=11&gt;\n",
       "<table>\n",
       "<tr><td>2.93987440545</td></tr>\n",
       "<tr><td>3.75219989692</td></tr>\n",
       "<tr><td>3.24364409245</td></tr>\n",
       "<tr><td>4.56129604872</td></tr>\n",
       "<tr><td>8.67937659076</td></tr>\n",
       "<tr><td>2.7350122827</td></tr>\n",
       "<tr><td>nan</td></tr>\n",
       "<tr><td>6.57293712234</td></tr>\n",
       "<tr><td>5.97012130445</td></tr>\n",
       "<tr><td>7.97751077552</td></tr>\n",
       "<tr><td>3.00118350226</td></tr>\n",
       "</table>"
      ],
      "text/plain": [
       "<Column name='Width' dtype='float64' length=11>\n",
       "2.93987440545\n",
       "3.75219989692\n",
       "3.24364409245\n",
       "4.56129604872\n",
       "8.67937659076\n",
       " 2.7350122827\n",
       "          nan\n",
       "6.57293712234\n",
       "5.97012130445\n",
       "7.97751077552\n",
       "3.00118350226"
      ]
     },
     "execution_count": 9,
     "metadata": {},
     "output_type": "execute_result"
    }
   ],
   "source": [
    "W_int_repeating"
   ]
  },
  {
   "cell_type": "code",
   "execution_count": 10,
   "metadata": {
    "collapsed": false
   },
   "outputs": [
    {
     "data": {
      "text/plain": [
       "<matplotlib.legend.Legend at 0x10de79d50>"
      ]
     },
     "execution_count": 10,
     "metadata": {},
     "output_type": "execute_result"
    },
    {
     "data": {
      "image/png": "[encoded data removed]",
      "text/plain": [
       "<matplotlib.figure.Figure at 0x105725d90>"
      ]
     },
     "metadata": {},
     "output_type": "display_data"
    }
   ],
   "source": [
    "plt.figure(figsize=(11,8))\n",
    "\n",
    "plt.plot(W_int, data['DM'], 'o', ms = 7, label = 'All FRB')\n",
    "plt.plot(W_int_repeating, repeating['DM'], 'ro', ms = 7, alpha = 0.5, label = 'Repeating FRB121102')\n",
    "\n",
    "plt.xlabel(r'Width [$ms$]',fontsize=36 )\n",
    "plt.ylabel(r'DM [$cm^{-3} pc$]', fontsize=36)\n",
    "\n",
    "#plt.xlim(0.5, 16)\n",
    "plt.xticks(fontsize = 20)\n",
    "plt.yticks(np.linspace(200, 1800, 5), fontsize = 20)\n",
    "plt.legend( numpoints=1, loc = 1, fontsize=16)\n",
    "#plt.savefig('20160331_W_int_DM_with_repeating.pdf')"
   ]
  },
  {
   "cell_type": "code",
   "execution_count": null,
   "metadata": {
    "collapsed": true
   },
   "outputs": [],
   "source": []
  }
 ],
 "metadata": {
  "kernelspec": {
   "display_name": "Python 2",
   "language": "python",
   "name": "python2"
  },
  "language_info": {
   "codemirror_mode": {
    "name": "ipython",
    "version": 2
   },
   "file_extension": ".py",
   "mimetype": "text/x-python",
   "name": "python",
   "nbconvert_exporter": "python",
   "pygments_lexer": "ipython2",
   "version": "2.7.12"
  }
 },
 "nbformat": 4,
 "nbformat_minor": 0
}
